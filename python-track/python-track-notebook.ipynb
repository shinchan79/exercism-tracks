{
 "metadata": {
  "language_info": {
   "codemirror_mode": {
    "name": "ipython",
    "version": 3
   },
   "file_extension": ".py",
   "mimetype": "text/x-python",
   "name": "python",
   "nbconvert_exporter": "python",
   "pygments_lexer": "ipython3",
   "version": "3.7.9"
  },
  "orig_nbformat": 2,
  "kernelspec": {
   "name": "python379jvsc74a57bd09a61adfca93621da7616225aef1fb240449f785d1800724b2872473134f2fc2e",
   "display_name": "Python 3.7.9 64-bit"
  },
  "metadata": {
   "interpreter": {
    "hash": "9a61adfca93621da7616225aef1fb240449f785d1800724b2872473134f2fc2e"
   }
  }
 },
 "nbformat": 4,
 "nbformat_minor": 2,
 "cells": [
  {
   "cell_type": "code",
   "execution_count": null,
   "metadata": {},
   "outputs": [],
   "source": [
    "1) Hello World\n"
   ]
  },
  {
   "cell_type": "code",
   "execution_count": 1,
   "metadata": {},
   "outputs": [
    {
     "output_type": "stream",
     "name": "stdout",
     "text": [
      "Hello, World!\n"
     ]
    }
   ],
   "source": [
    "print(\"Hello, World!\")"
   ]
  },
  {
   "cell_type": "code",
   "execution_count": null,
   "metadata": {},
   "outputs": [],
   "source": [
    "Two fer"
   ]
  },
  {
   "cell_type": "code",
   "execution_count": 5,
   "metadata": {},
   "outputs": [
    {
     "output_type": "stream",
     "name": "stdout",
     "text": [
      "One for you, one for me.\n"
     ]
    }
   ],
   "source": [
    "x = input(\"Input X: \")\n",
    "if x == \"\":\n",
    "    print(\"One for you, one for me.\")\n",
    "else:\n",
    "    print(f\"One for {x}, one for me.\")"
   ]
  },
  {
   "cell_type": "code",
   "execution_count": null,
   "metadata": {},
   "outputs": [],
   "source": [
    "Rain drop "
   ]
  },
  {
   "cell_type": "code",
   "execution_count": 8,
   "metadata": {},
   "outputs": [
    {
     "output_type": "stream",
     "name": "stdout",
     "text": [
      "Pling\n"
     ]
    }
   ],
   "source": [
    "num = int(input(\"Enter number: \"))\n",
    "if num % 3 == 0: \n",
    "    print(\"Pling\")\n",
    "elif num % 5 == 0:\n",
    "    print(\"Plang\")\n",
    "elif num % 7 == 0: \n",
    "    print(\"Plong\")\n",
    "else:\n",
    "    print(num)"
   ]
  },
  {
   "cell_type": "code",
   "execution_count": null,
   "metadata": {},
   "outputs": [],
   "source": [
    "High Scores"
   ]
  },
  {
   "cell_type": "code",
   "execution_count": null,
   "metadata": {},
   "outputs": [],
   "source": [
    "score = input(\"Enter the score list, separate by space: \")\n",
    "\n",
    "score_list = score.split()\n",
    "int_sc_list = []\n",
    "for i in range(0, len(score_list)):\n",
    "    score_list[i] = int(score_list[i])\n",
    "    int_sc_list.append(score_list[i])\n",
    "\n",
    "print(\"Return the highest score: \" + str(max(int_sc_list)))\n",
    "\n",
    "print(\"Return the last added score: \" + str(score_list[-1])) \n",
    "\n",
    "sorted_list = sorted(int_sc_list)\n",
    "print(sorted_list)\n",
    "print(\"Return three highest scores: \" + str(sorted_list[-1]) + \" \" +  str(sorted_list[-2]) + \" \" + str(sorted_list[-3])) "
   ]
  },
  {
   "cell_type": "code",
   "execution_count": null,
   "metadata": {},
   "outputs": [],
   "source": [
    "Matrix"
   ]
  },
  {
   "cell_type": "code",
   "execution_count": 16,
   "metadata": {},
   "outputs": [],
   "source": [
    "class Matrix(object):\n",
    "    def __init__(self, matrix_string):\n",
    "        self.rows = []\n",
    "        self.columns = []\n",
    "\n",
    "        # Read rows from input string\n",
    "        inputRows = matrix_string.split(\"\\n\")\n",
    "        for row in inputRows:\n",
    "            currentRow = row.split(\" \")     # separate numbers\n",
    "            currentRow = list(map(lambda x: int(x), currentRow))    # turn string numbers into integers\n",
    "            self.rows.append(currentRow)\n",
    "\n",
    "        # Create columns from rows\n",
    "        for i in range (0,len(self.rows[0])):   # column index\n",
    "            currentCol = []\n",
    "            for j in range (0, len (self.rows)): # row index\n",
    "                currentCol.append(self.rows[j][i])\n",
    "\n",
    "            self.columns.append (currentCol)\n",
    "\n",
    "    def row(self, index):\n",
    "        return self.rows[index]\n",
    "\n",
    "    def column(self, index):\n",
    "        return self.columns[index]\n",
    "        \n"
   ]
  },
  {
   "cell_type": "code",
   "execution_count": 35,
   "metadata": {},
   "outputs": [
    {
     "output_type": "stream",
     "name": "stdout",
     "text": [
      "[[6, 7, 8], [7, 8, 9], [1, 2, 3]]\n[[6, 7, 1], [7, 8, 2], [8, 9, 3]]\n"
     ]
    }
   ],
   "source": [
    "matrix_string = \"6 7 8\\n7 8 9\\n1 2 3\"\n",
    "rows = []\n",
    "columns = []\n",
    "inputRows = matrix_string.split(\"\\n\")\n",
    "for row in inputRows:\n",
    "    currentRow = row.split(\" \")     # separate numbers\n",
    "    currentRow = list(map(lambda x: int(x), currentRow))    # turn string numbers into integers\n",
    "    rows.append(currentRow)\n",
    "\n",
    "# Create columns from rows\n",
    "for i in range (0,len(rows[0])):   # column index\n",
    "    currentCol = []\n",
    "    for j in range (0, len (rows)): # row index\n",
    "        currentCol.append(rows[j][i])\n",
    "\n",
    "    columns.append (currentCol)\n",
    "print(rows)\n",
    "print(columns)\n",
    "\n"
   ]
  },
  {
   "cell_type": "code",
   "execution_count": null,
   "metadata": {},
   "outputs": [],
   "source": [
    "Hamming"
   ]
  },
  {
   "cell_type": "code",
   "execution_count": 37,
   "metadata": {},
   "outputs": [
    {
     "output_type": "stream",
     "name": "stdout",
     "text": [
      "['C', 'A', 'T', 'C', 'G', 'T', 'A', 'A', 'T', 'G', 'A', 'C', 'G', 'G', 'C', 'C', 'T']\n['G', 'A', 'G', 'C', 'C', 'T', 'A', 'C', 'T', 'A', 'A', 'C', 'G', 'G', 'G', 'A', 'T']\nHamming Distance: 7\n"
     ]
    }
   ],
   "source": [
    "dna_string1 = input(\"Enter the first DNA string: \")\n",
    "dna_string2 = input(\"Enter the second DNA string: \")\n",
    "count = 0\n",
    "\n",
    "l1 = list(dna_string1)\n",
    "l2 = list(dna_string2)\n",
    "print(l1)\n",
    "print(l2)\n",
    "\n",
    "for i, j in zip(l1, l2):\n",
    "    if i != j:\n",
    "        count +=1\n",
    "print(f\"Hamming Distance: {count}\")"
   ]
  },
  {
   "cell_type": "code",
   "execution_count": null,
   "metadata": {},
   "outputs": [],
   "source": [
    "Isogram"
   ]
  },
  {
   "cell_type": "code",
   "execution_count": null,
   "metadata": {},
   "outputs": [],
   "source": [
    "phrase = input(\"Enter phrase you want to check: \")\n",
    "if phrase == \"\":\n",
    "    print(\"Empty string! \")\n",
    "else:\n",
    "    list_char = list(phrase)\n",
    "\n",
    "    c = dict((i, list_char.count(i)) for i in list_char)\n",
    "\n",
    "    duplicate_char = []\n",
    "    for char, number in c.items():\n",
    "        if number >=2 and char != \"-\":\n",
    "                duplicate_char.append(char)\n",
    "    if len(duplicate_char) == 0:\n",
    "        print(\"isogram\")\n",
    "    else:\n",
    "        print(\"not isogram!\")"
   ]
  },
  {
   "cell_type": "code",
   "execution_count": null,
   "metadata": {},
   "outputs": [],
   "source": [
    "Twelve Days"
   ]
  },
  {
   "cell_type": "code",
   "execution_count": null,
   "metadata": {},
   "outputs": [],
   "source": [
    "def verse(number):\n",
    "    ordinal_numbers = ['first', 'second', 'third', 'fourth', 'fifth', 'sixth', 'seventh', 'eighth', 'ninth', 'tenth',\n",
    "                       'eleventh', 'twelfth']\n",
    "\n",
    "    phrases = [\n",
    "        \"twelve Drummers Drumming, \",\n",
    "        \"eleven Pipers Piping, \",\n",
    "        \"ten Lords-a-Leaping, \",\n",
    "        \"nine Ladies Dancing, \",\n",
    "        \"eight Maids-a-Milking, \",\n",
    "        \"seven Swans-a-Swimming, \",\n",
    "        \"six Geese-a-Laying, \",\n",
    "        \"five Gold Rings, \",\n",
    "        \"four Calling Birds, \",\n",
    "        \"three French Hens, \",\n",
    "        \"two Turtle Doves, \",\n",
    "        \"and a Partridge in a Pear Tree.\"\n",
    "    ]\n",
    "\n",
    "    phrase_count = len(phrases)\n",
    "    \n",
    "    result = [\"On the {} day of Christmas my true love gave to me: \".format(ordinal_numbers[number - 1])]\n",
    "    print(result)\n",
    "    if number == 1:\n",
    "        result.append(\"a Partridge in a Pear Tree.\")\n",
    "    else:\n",
    "        result += [phrases[index] for index in range(phrase_count - number, phrase_count)]\n",
    "        \n",
    "    return ''.join(result)\n",
    "\n",
    "def recite(start_verse, end_verse):\n",
    "    result = [verse(i) for i in range(start_verse, end_verse + 1)]\n",
    "    print(result)\n",
    "    return result\n",
    "\n",
    "recite(1, 3)\n"
   ]
  }
 ]
}